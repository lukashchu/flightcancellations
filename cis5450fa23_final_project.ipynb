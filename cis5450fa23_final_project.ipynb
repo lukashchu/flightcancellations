{
  "cells": [
    {
      "cell_type": "markdown",
      "metadata": {
        "id": "qGoLaF1nJW9S"
      },
      "source": [
        "# **CIS 5450 Final Project: Flight Cancellations**\n",
        "\n",
        "Adam Gorka, Andrew Lukashchuk, Hassan Rizwan\n",
        "\n",
        "*Due Date: **December 11th at 10:00PM EST**, 105 points total (graded out of 100)*\n",
        "\n",
        "[Project Guidelines](https://docs.google.com/document/d/1o4XshJyIuNlm7_NeoE4RQmVfxWUcwA44bbMo9GbyhYs/edit)\n",
        "\n",
        "[Project Demo](https://colab.research.google.com/drive/1u1O5IVfcgPxvPljJTIi2klpscE74Iubj?usp=sharing#scrollTo=toje9w6Eh3jI)\n"
      ]
    },
    {
      "cell_type": "markdown",
      "metadata": {
        "id": "AqhIpYLHSAx5"
      },
      "source": [
        "# **Part I:** Introduction and Setup"
      ]
    },
    {
      "cell_type": "markdown",
      "metadata": {
        "id": "daCO5h-GTMJG"
      },
      "source": [
        "In our project, we intend to study data on flights in 2022. With this data, we want to find relationships on the cancellation of flights between various possible factors impacting the cancellation, including the flight date, airline, origin and destination city, distance, and year. It will be possible to see if there are any significant relationships between these factors and the flight being canceled, especially given the large number of entries in the dataset. Having a high number of data entries will prove useful in finding accurate relationships between the many different data points."
      ]
    },
    {
      "cell_type": "markdown",
      "metadata": {
        "id": "8ZYdG5EXKsds"
      },
      "source": [
        "First, run the following cells to set up the notebook."
      ]
    },
    {
      "cell_type": "code",
      "execution_count": null,
      "metadata": {
        "id": "0eUlfcDiJwbN"
      },
      "outputs": [],
      "source": [
        "# Import packages\n",
        "import pandas as pd\n",
        "import numpy as np\n",
        "import matplotlib.pyplot as plt\n",
        "import seaborn as sns\n",
        "from sklearn.model_selection import train_test_split\n",
        "from sklearn.ensemble import RandomForestClassifier\n",
        "from sklearn.metrics import accuracy_score, classification_report, confusion_matrix\n",
        "from sklearn.preprocessing import LabelEncoder\n",
        "from sklearn.impute import SimpleImputer\n",
        "from google.colab import drive\n",
        "import os"
      ]
    },
    {
      "cell_type": "code",
      "execution_count": null,
      "metadata": {
        "id": "su5INOQfK52P"
      },
      "outputs": [],
      "source": [
        "%%capture\n",
        "!apt update\n",
        "!pip install kaggle"
      ]
    },
    {
      "cell_type": "markdown",
      "metadata": {
        "id": "G2qT50hbK861"
      },
      "source": [
        "# **Part II:** Preprocessing"
      ]
    },
    {
      "cell_type": "markdown",
      "metadata": {
        "id": "XnQ27SWWVjPA"
      },
      "source": [
        "We are using one Parquet for this project, `Combined_Flights_2022.parquet` from a Kaggle [dataset](https://www.kaggle.com/datasets/robikscube/flight-delay-dataset-20182022?select=Combined_Flights_2022.parquet). The dataset contains 61 columns and over 4 million flight entries."
      ]
    },
    {
      "cell_type": "code",
      "execution_count": null,
      "metadata": {
        "colab": {
          "base_uri": "https://localhost:8080/"
        },
        "id": "tL2mdGxRLAEl",
        "outputId": "babcee6a-673f-43d1-8082-608622cc29b8"
      },
      "outputs": [
        {
          "output_type": "stream",
          "name": "stdout",
          "text": [
            "Mounted at /content/drive\n"
          ]
        }
      ],
      "source": [
        "# Only run once per session\n",
        "\n",
        "# Mount Google Drive\n",
        "drive.mount('/content/drive')\n",
        "\n",
        "# Create the kaggle directory\n",
        "!mkdir ~/.kaggle"
      ]
    },
    {
      "cell_type": "code",
      "source": [
        "# Read the uploaded kaggle.json file\n",
        "!cp /content/drive/MyDrive/kaggle.json ~/.kaggle/"
      ],
      "metadata": {
        "id": "s55lNb0Rt0_1"
      },
      "execution_count": null,
      "outputs": []
    },
    {
      "cell_type": "code",
      "source": [
        "# Download dataset\n",
        "!!kaggle datasets download robikscube/flight-delay-dataset-20182022 -f Combined_Flights_2022.parquet"
      ],
      "metadata": {
        "colab": {
          "base_uri": "https://localhost:8080/"
        },
        "id": "KcvTPuekt9kq",
        "outputId": "e3ef0ca9-b555-487c-e151-398f3de50bcf"
      },
      "execution_count": null,
      "outputs": [
        {
          "output_type": "execute_result",
          "data": {
            "text/plain": [
              "['Downloading Combined_Flights_2022.parquet.zip to /content',\n",
              " '',\n",
              " '  0% 0.00/102M [00:00<?, ?B/s]',\n",
              " '  6% 6.00M/102M [00:00<00:01, 60.5MB/s]',\n",
              " ' 13% 13.0M/102M [00:00<00:01, 63.9MB/s]',\n",
              " ' 25% 26.0M/102M [00:00<00:00, 91.2MB/s]',\n",
              " ' 36% 37.0M/102M [00:00<00:00, 98.6MB/s]',\n",
              " ' 46% 47.0M/102M [00:00<00:00, 78.8MB/s]',\n",
              " ' 56% 57.0M/102M [00:00<00:00, 66.5MB/s]',\n",
              " ' 63% 64.0M/102M [00:00<00:00, 65.9MB/s]',\n",
              " ' 74% 76.0M/102M [00:01<00:00, 80.2MB/s]',\n",
              " ' 86% 88.0M/102M [00:01<00:00, 90.9MB/s]',\n",
              " ' 96% 98.0M/102M [00:01<00:00, 83.4MB/s]',\n",
              " '',\n",
              " '100% 102M/102M [00:01<00:00, 80.5MB/s] ']"
            ]
          },
          "metadata": {},
          "execution_count": 5
        }
      ]
    },
    {
      "cell_type": "code",
      "source": [
        "# Unzip folder in Colab content folder\n",
        "!unzip /content/Combined_Flights_2022.parquet.zip"
      ],
      "metadata": {
        "colab": {
          "base_uri": "https://localhost:8080/"
        },
        "id": "_f6FTrr8uBe-",
        "outputId": "1f27d959-d641-46d9-c109-abe1bba4ea44"
      },
      "execution_count": null,
      "outputs": [
        {
          "output_type": "stream",
          "name": "stdout",
          "text": [
            "Archive:  /content/Combined_Flights_2022.parquet.zip\n",
            "  inflating: Combined_Flights_2022.parquet  \n"
          ]
        }
      ]
    },
    {
      "cell_type": "code",
      "execution_count": null,
      "metadata": {
        "id": "iM_sbBAS3HVR"
      },
      "outputs": [],
      "source": [
        "# Load data into Pandas DataFrame\n",
        "df = pd.read_parquet('Combined_Flights_2022.parquet')\n",
        "df = df.dropna()\n",
        "#df = pd.read_csv(\"Combined_Flights_2022.csv\")"
      ]
    },
    {
      "cell_type": "code",
      "execution_count": null,
      "metadata": {
        "id": "fTUKYsoj6oRP",
        "colab": {
          "base_uri": "https://localhost:8080/",
          "height": 602
        },
        "outputId": "92cd6dd2-b35e-47dc-d274-c88113f4ed7a"
      },
      "outputs": [
        {
          "output_type": "execute_result",
          "data": {
            "text/plain": [
              "  FlightDate                                    Airline Origin Dest  \\\n",
              "0 2022-04-04  Commutair Aka Champlain Enterprises, Inc.    GJT  DEN   \n",
              "1 2022-04-04  Commutair Aka Champlain Enterprises, Inc.    HRL  IAH   \n",
              "2 2022-04-04  Commutair Aka Champlain Enterprises, Inc.    DRO  DEN   \n",
              "3 2022-04-04  Commutair Aka Champlain Enterprises, Inc.    IAH  GPT   \n",
              "4 2022-04-04  Commutair Aka Champlain Enterprises, Inc.    DRO  DEN   \n",
              "\n",
              "   Cancelled  Diverted  CRSDepTime  DepTime  DepDelayMinutes  DepDelay  ...  \\\n",
              "0      False     False        1133   1123.0              0.0     -10.0  ...   \n",
              "1      False     False         732    728.0              0.0      -4.0  ...   \n",
              "2      False     False        1529   1514.0              0.0     -15.0  ...   \n",
              "3      False     False        1435   1430.0              0.0      -5.0  ...   \n",
              "4      False     False        1135   1135.0              0.0       0.0  ...   \n",
              "\n",
              "   WheelsOff  WheelsOn  TaxiIn  CRSArrTime  ArrDelay  ArrDel15  \\\n",
              "0     1140.0    1220.0     8.0        1245     -17.0       0.0   \n",
              "1      744.0     839.0     9.0         849      -1.0       0.0   \n",
              "2     1535.0    1622.0    14.0        1639      -3.0       0.0   \n",
              "3     1446.0    1543.0     4.0        1605     -18.0       0.0   \n",
              "4     1154.0    1243.0     8.0        1245       6.0       0.0   \n",
              "\n",
              "   ArrivalDelayGroups  ArrTimeBlk  DistanceGroup  DivAirportLandings  \n",
              "0                -2.0   1200-1259              1                   0  \n",
              "1                -1.0   0800-0859              2                   0  \n",
              "2                -1.0   1600-1659              2                   0  \n",
              "3                -2.0   1600-1659              2                   0  \n",
              "4                 0.0   1200-1259              2                   0  \n",
              "\n",
              "[5 rows x 61 columns]"
            ],
            "text/html": [
              "\n",
              "  <div id=\"df-b4cc757e-137c-447b-9344-1c27a008ad94\" class=\"colab-df-container\">\n",
              "    <div>\n",
              "<style scoped>\n",
              "    .dataframe tbody tr th:only-of-type {\n",
              "        vertical-align: middle;\n",
              "    }\n",
              "\n",
              "    .dataframe tbody tr th {\n",
              "        vertical-align: top;\n",
              "    }\n",
              "\n",
              "    .dataframe thead th {\n",
              "        text-align: right;\n",
              "    }\n",
              "</style>\n",
              "<table border=\"1\" class=\"dataframe\">\n",
              "  <thead>\n",
              "    <tr style=\"text-align: right;\">\n",
              "      <th></th>\n",
              "      <th>FlightDate</th>\n",
              "      <th>Airline</th>\n",
              "      <th>Origin</th>\n",
              "      <th>Dest</th>\n",
              "      <th>Cancelled</th>\n",
              "      <th>Diverted</th>\n",
              "      <th>CRSDepTime</th>\n",
              "      <th>DepTime</th>\n",
              "      <th>DepDelayMinutes</th>\n",
              "      <th>DepDelay</th>\n",
              "      <th>...</th>\n",
              "      <th>WheelsOff</th>\n",
              "      <th>WheelsOn</th>\n",
              "      <th>TaxiIn</th>\n",
              "      <th>CRSArrTime</th>\n",
              "      <th>ArrDelay</th>\n",
              "      <th>ArrDel15</th>\n",
              "      <th>ArrivalDelayGroups</th>\n",
              "      <th>ArrTimeBlk</th>\n",
              "      <th>DistanceGroup</th>\n",
              "      <th>DivAirportLandings</th>\n",
              "    </tr>\n",
              "  </thead>\n",
              "  <tbody>\n",
              "    <tr>\n",
              "      <th>0</th>\n",
              "      <td>2022-04-04</td>\n",
              "      <td>Commutair Aka Champlain Enterprises, Inc.</td>\n",
              "      <td>GJT</td>\n",
              "      <td>DEN</td>\n",
              "      <td>False</td>\n",
              "      <td>False</td>\n",
              "      <td>1133</td>\n",
              "      <td>1123.0</td>\n",
              "      <td>0.0</td>\n",
              "      <td>-10.0</td>\n",
              "      <td>...</td>\n",
              "      <td>1140.0</td>\n",
              "      <td>1220.0</td>\n",
              "      <td>8.0</td>\n",
              "      <td>1245</td>\n",
              "      <td>-17.0</td>\n",
              "      <td>0.0</td>\n",
              "      <td>-2.0</td>\n",
              "      <td>1200-1259</td>\n",
              "      <td>1</td>\n",
              "      <td>0</td>\n",
              "    </tr>\n",
              "    <tr>\n",
              "      <th>1</th>\n",
              "      <td>2022-04-04</td>\n",
              "      <td>Commutair Aka Champlain Enterprises, Inc.</td>\n",
              "      <td>HRL</td>\n",
              "      <td>IAH</td>\n",
              "      <td>False</td>\n",
              "      <td>False</td>\n",
              "      <td>732</td>\n",
              "      <td>728.0</td>\n",
              "      <td>0.0</td>\n",
              "      <td>-4.0</td>\n",
              "      <td>...</td>\n",
              "      <td>744.0</td>\n",
              "      <td>839.0</td>\n",
              "      <td>9.0</td>\n",
              "      <td>849</td>\n",
              "      <td>-1.0</td>\n",
              "      <td>0.0</td>\n",
              "      <td>-1.0</td>\n",
              "      <td>0800-0859</td>\n",
              "      <td>2</td>\n",
              "      <td>0</td>\n",
              "    </tr>\n",
              "    <tr>\n",
              "      <th>2</th>\n",
              "      <td>2022-04-04</td>\n",
              "      <td>Commutair Aka Champlain Enterprises, Inc.</td>\n",
              "      <td>DRO</td>\n",
              "      <td>DEN</td>\n",
              "      <td>False</td>\n",
              "      <td>False</td>\n",
              "      <td>1529</td>\n",
              "      <td>1514.0</td>\n",
              "      <td>0.0</td>\n",
              "      <td>-15.0</td>\n",
              "      <td>...</td>\n",
              "      <td>1535.0</td>\n",
              "      <td>1622.0</td>\n",
              "      <td>14.0</td>\n",
              "      <td>1639</td>\n",
              "      <td>-3.0</td>\n",
              "      <td>0.0</td>\n",
              "      <td>-1.0</td>\n",
              "      <td>1600-1659</td>\n",
              "      <td>2</td>\n",
              "      <td>0</td>\n",
              "    </tr>\n",
              "    <tr>\n",
              "      <th>3</th>\n",
              "      <td>2022-04-04</td>\n",
              "      <td>Commutair Aka Champlain Enterprises, Inc.</td>\n",
              "      <td>IAH</td>\n",
              "      <td>GPT</td>\n",
              "      <td>False</td>\n",
              "      <td>False</td>\n",
              "      <td>1435</td>\n",
              "      <td>1430.0</td>\n",
              "      <td>0.0</td>\n",
              "      <td>-5.0</td>\n",
              "      <td>...</td>\n",
              "      <td>1446.0</td>\n",
              "      <td>1543.0</td>\n",
              "      <td>4.0</td>\n",
              "      <td>1605</td>\n",
              "      <td>-18.0</td>\n",
              "      <td>0.0</td>\n",
              "      <td>-2.0</td>\n",
              "      <td>1600-1659</td>\n",
              "      <td>2</td>\n",
              "      <td>0</td>\n",
              "    </tr>\n",
              "    <tr>\n",
              "      <th>4</th>\n",
              "      <td>2022-04-04</td>\n",
              "      <td>Commutair Aka Champlain Enterprises, Inc.</td>\n",
              "      <td>DRO</td>\n",
              "      <td>DEN</td>\n",
              "      <td>False</td>\n",
              "      <td>False</td>\n",
              "      <td>1135</td>\n",
              "      <td>1135.0</td>\n",
              "      <td>0.0</td>\n",
              "      <td>0.0</td>\n",
              "      <td>...</td>\n",
              "      <td>1154.0</td>\n",
              "      <td>1243.0</td>\n",
              "      <td>8.0</td>\n",
              "      <td>1245</td>\n",
              "      <td>6.0</td>\n",
              "      <td>0.0</td>\n",
              "      <td>0.0</td>\n",
              "      <td>1200-1259</td>\n",
              "      <td>2</td>\n",
              "      <td>0</td>\n",
              "    </tr>\n",
              "  </tbody>\n",
              "</table>\n",
              "<p>5 rows × 61 columns</p>\n",
              "</div>\n",
              "    <div class=\"colab-df-buttons\">\n",
              "\n",
              "  <div class=\"colab-df-container\">\n",
              "    <button class=\"colab-df-convert\" onclick=\"convertToInteractive('df-b4cc757e-137c-447b-9344-1c27a008ad94')\"\n",
              "            title=\"Convert this dataframe to an interactive table.\"\n",
              "            style=\"display:none;\">\n",
              "\n",
              "  <svg xmlns=\"http://www.w3.org/2000/svg\" height=\"24px\" viewBox=\"0 -960 960 960\">\n",
              "    <path d=\"M120-120v-720h720v720H120Zm60-500h600v-160H180v160Zm220 220h160v-160H400v160Zm0 220h160v-160H400v160ZM180-400h160v-160H180v160Zm440 0h160v-160H620v160ZM180-180h160v-160H180v160Zm440 0h160v-160H620v160Z\"/>\n",
              "  </svg>\n",
              "    </button>\n",
              "\n",
              "  <style>\n",
              "    .colab-df-container {\n",
              "      display:flex;\n",
              "      gap: 12px;\n",
              "    }\n",
              "\n",
              "    .colab-df-convert {\n",
              "      background-color: #E8F0FE;\n",
              "      border: none;\n",
              "      border-radius: 50%;\n",
              "      cursor: pointer;\n",
              "      display: none;\n",
              "      fill: #1967D2;\n",
              "      height: 32px;\n",
              "      padding: 0 0 0 0;\n",
              "      width: 32px;\n",
              "    }\n",
              "\n",
              "    .colab-df-convert:hover {\n",
              "      background-color: #E2EBFA;\n",
              "      box-shadow: 0px 1px 2px rgba(60, 64, 67, 0.3), 0px 1px 3px 1px rgba(60, 64, 67, 0.15);\n",
              "      fill: #174EA6;\n",
              "    }\n",
              "\n",
              "    .colab-df-buttons div {\n",
              "      margin-bottom: 4px;\n",
              "    }\n",
              "\n",
              "    [theme=dark] .colab-df-convert {\n",
              "      background-color: #3B4455;\n",
              "      fill: #D2E3FC;\n",
              "    }\n",
              "\n",
              "    [theme=dark] .colab-df-convert:hover {\n",
              "      background-color: #434B5C;\n",
              "      box-shadow: 0px 1px 3px 1px rgba(0, 0, 0, 0.15);\n",
              "      filter: drop-shadow(0px 1px 2px rgba(0, 0, 0, 0.3));\n",
              "      fill: #FFFFFF;\n",
              "    }\n",
              "  </style>\n",
              "\n",
              "    <script>\n",
              "      const buttonEl =\n",
              "        document.querySelector('#df-b4cc757e-137c-447b-9344-1c27a008ad94 button.colab-df-convert');\n",
              "      buttonEl.style.display =\n",
              "        google.colab.kernel.accessAllowed ? 'block' : 'none';\n",
              "\n",
              "      async function convertToInteractive(key) {\n",
              "        const element = document.querySelector('#df-b4cc757e-137c-447b-9344-1c27a008ad94');\n",
              "        const dataTable =\n",
              "          await google.colab.kernel.invokeFunction('convertToInteractive',\n",
              "                                                    [key], {});\n",
              "        if (!dataTable) return;\n",
              "\n",
              "        const docLinkHtml = 'Like what you see? Visit the ' +\n",
              "          '<a target=\"_blank\" href=https://colab.research.google.com/notebooks/data_table.ipynb>data table notebook</a>'\n",
              "          + ' to learn more about interactive tables.';\n",
              "        element.innerHTML = '';\n",
              "        dataTable['output_type'] = 'display_data';\n",
              "        await google.colab.output.renderOutput(dataTable, element);\n",
              "        const docLink = document.createElement('div');\n",
              "        docLink.innerHTML = docLinkHtml;\n",
              "        element.appendChild(docLink);\n",
              "      }\n",
              "    </script>\n",
              "  </div>\n",
              "\n",
              "\n",
              "<div id=\"df-9f55cbb7-38b7-42fb-ab6a-2e66c95d5ce5\">\n",
              "  <button class=\"colab-df-quickchart\" onclick=\"quickchart('df-9f55cbb7-38b7-42fb-ab6a-2e66c95d5ce5')\"\n",
              "            title=\"Suggest charts\"\n",
              "            style=\"display:none;\">\n",
              "\n",
              "<svg xmlns=\"http://www.w3.org/2000/svg\" height=\"24px\"viewBox=\"0 0 24 24\"\n",
              "     width=\"24px\">\n",
              "    <g>\n",
              "        <path d=\"M19 3H5c-1.1 0-2 .9-2 2v14c0 1.1.9 2 2 2h14c1.1 0 2-.9 2-2V5c0-1.1-.9-2-2-2zM9 17H7v-7h2v7zm4 0h-2V7h2v10zm4 0h-2v-4h2v4z\"/>\n",
              "    </g>\n",
              "</svg>\n",
              "  </button>\n",
              "\n",
              "<style>\n",
              "  .colab-df-quickchart {\n",
              "      --bg-color: #E8F0FE;\n",
              "      --fill-color: #1967D2;\n",
              "      --hover-bg-color: #E2EBFA;\n",
              "      --hover-fill-color: #174EA6;\n",
              "      --disabled-fill-color: #AAA;\n",
              "      --disabled-bg-color: #DDD;\n",
              "  }\n",
              "\n",
              "  [theme=dark] .colab-df-quickchart {\n",
              "      --bg-color: #3B4455;\n",
              "      --fill-color: #D2E3FC;\n",
              "      --hover-bg-color: #434B5C;\n",
              "      --hover-fill-color: #FFFFFF;\n",
              "      --disabled-bg-color: #3B4455;\n",
              "      --disabled-fill-color: #666;\n",
              "  }\n",
              "\n",
              "  .colab-df-quickchart {\n",
              "    background-color: var(--bg-color);\n",
              "    border: none;\n",
              "    border-radius: 50%;\n",
              "    cursor: pointer;\n",
              "    display: none;\n",
              "    fill: var(--fill-color);\n",
              "    height: 32px;\n",
              "    padding: 0;\n",
              "    width: 32px;\n",
              "  }\n",
              "\n",
              "  .colab-df-quickchart:hover {\n",
              "    background-color: var(--hover-bg-color);\n",
              "    box-shadow: 0 1px 2px rgba(60, 64, 67, 0.3), 0 1px 3px 1px rgba(60, 64, 67, 0.15);\n",
              "    fill: var(--button-hover-fill-color);\n",
              "  }\n",
              "\n",
              "  .colab-df-quickchart-complete:disabled,\n",
              "  .colab-df-quickchart-complete:disabled:hover {\n",
              "    background-color: var(--disabled-bg-color);\n",
              "    fill: var(--disabled-fill-color);\n",
              "    box-shadow: none;\n",
              "  }\n",
              "\n",
              "  .colab-df-spinner {\n",
              "    border: 2px solid var(--fill-color);\n",
              "    border-color: transparent;\n",
              "    border-bottom-color: var(--fill-color);\n",
              "    animation:\n",
              "      spin 1s steps(1) infinite;\n",
              "  }\n",
              "\n",
              "  @keyframes spin {\n",
              "    0% {\n",
              "      border-color: transparent;\n",
              "      border-bottom-color: var(--fill-color);\n",
              "      border-left-color: var(--fill-color);\n",
              "    }\n",
              "    20% {\n",
              "      border-color: transparent;\n",
              "      border-left-color: var(--fill-color);\n",
              "      border-top-color: var(--fill-color);\n",
              "    }\n",
              "    30% {\n",
              "      border-color: transparent;\n",
              "      border-left-color: var(--fill-color);\n",
              "      border-top-color: var(--fill-color);\n",
              "      border-right-color: var(--fill-color);\n",
              "    }\n",
              "    40% {\n",
              "      border-color: transparent;\n",
              "      border-right-color: var(--fill-color);\n",
              "      border-top-color: var(--fill-color);\n",
              "    }\n",
              "    60% {\n",
              "      border-color: transparent;\n",
              "      border-right-color: var(--fill-color);\n",
              "    }\n",
              "    80% {\n",
              "      border-color: transparent;\n",
              "      border-right-color: var(--fill-color);\n",
              "      border-bottom-color: var(--fill-color);\n",
              "    }\n",
              "    90% {\n",
              "      border-color: transparent;\n",
              "      border-bottom-color: var(--fill-color);\n",
              "    }\n",
              "  }\n",
              "</style>\n",
              "\n",
              "  <script>\n",
              "    async function quickchart(key) {\n",
              "      const quickchartButtonEl =\n",
              "        document.querySelector('#' + key + ' button');\n",
              "      quickchartButtonEl.disabled = true;  // To prevent multiple clicks.\n",
              "      quickchartButtonEl.classList.add('colab-df-spinner');\n",
              "      try {\n",
              "        const charts = await google.colab.kernel.invokeFunction(\n",
              "            'suggestCharts', [key], {});\n",
              "      } catch (error) {\n",
              "        console.error('Error during call to suggestCharts:', error);\n",
              "      }\n",
              "      quickchartButtonEl.classList.remove('colab-df-spinner');\n",
              "      quickchartButtonEl.classList.add('colab-df-quickchart-complete');\n",
              "    }\n",
              "    (() => {\n",
              "      let quickchartButtonEl =\n",
              "        document.querySelector('#df-9f55cbb7-38b7-42fb-ab6a-2e66c95d5ce5 button');\n",
              "      quickchartButtonEl.style.display =\n",
              "        google.colab.kernel.accessAllowed ? 'block' : 'none';\n",
              "    })();\n",
              "  </script>\n",
              "</div>\n",
              "    </div>\n",
              "  </div>\n"
            ]
          },
          "metadata": {},
          "execution_count": 8
        }
      ],
      "source": [
        "# Print out the first five rows\n",
        "df.head()"
      ]
    },
    {
      "cell_type": "code",
      "execution_count": null,
      "metadata": {
        "id": "rteTSSQSWkUL",
        "colab": {
          "base_uri": "https://localhost:8080/"
        },
        "outputId": "510b263d-b815-4d67-ee60-a2d8e7d4f213"
      },
      "outputs": [
        {
          "output_type": "stream",
          "name": "stdout",
          "text": [
            "<class 'pandas.core.frame.DataFrame'>\n",
            "Int64Index: 3944916 entries, 0 to 590539\n",
            "Data columns (total 61 columns):\n",
            " #   Column                                   Dtype         \n",
            "---  ------                                   -----         \n",
            " 0   FlightDate                               datetime64[ns]\n",
            " 1   Airline                                  object        \n",
            " 2   Origin                                   object        \n",
            " 3   Dest                                     object        \n",
            " 4   Cancelled                                bool          \n",
            " 5   Diverted                                 bool          \n",
            " 6   CRSDepTime                               int64         \n",
            " 7   DepTime                                  float64       \n",
            " 8   DepDelayMinutes                          float64       \n",
            " 9   DepDelay                                 float64       \n",
            " 10  ArrTime                                  float64       \n",
            " 11  ArrDelayMinutes                          float64       \n",
            " 12  AirTime                                  float64       \n",
            " 13  CRSElapsedTime                           float64       \n",
            " 14  ActualElapsedTime                        float64       \n",
            " 15  Distance                                 float64       \n",
            " 16  Year                                     int64         \n",
            " 17  Quarter                                  int64         \n",
            " 18  Month                                    int64         \n",
            " 19  DayofMonth                               int64         \n",
            " 20  DayOfWeek                                int64         \n",
            " 21  Marketing_Airline_Network                object        \n",
            " 22  Operated_or_Branded_Code_Share_Partners  object        \n",
            " 23  DOT_ID_Marketing_Airline                 int64         \n",
            " 24  IATA_Code_Marketing_Airline              object        \n",
            " 25  Flight_Number_Marketing_Airline          int64         \n",
            " 26  Operating_Airline                        object        \n",
            " 27  DOT_ID_Operating_Airline                 int64         \n",
            " 28  IATA_Code_Operating_Airline              object        \n",
            " 29  Tail_Number                              object        \n",
            " 30  Flight_Number_Operating_Airline          int64         \n",
            " 31  OriginAirportID                          int64         \n",
            " 32  OriginAirportSeqID                       int64         \n",
            " 33  OriginCityMarketID                       int64         \n",
            " 34  OriginCityName                           object        \n",
            " 35  OriginState                              object        \n",
            " 36  OriginStateFips                          int64         \n",
            " 37  OriginStateName                          object        \n",
            " 38  OriginWac                                int64         \n",
            " 39  DestAirportID                            int64         \n",
            " 40  DestAirportSeqID                         int64         \n",
            " 41  DestCityMarketID                         int64         \n",
            " 42  DestCityName                             object        \n",
            " 43  DestState                                object        \n",
            " 44  DestStateFips                            int64         \n",
            " 45  DestStateName                            object        \n",
            " 46  DestWac                                  int64         \n",
            " 47  DepDel15                                 float64       \n",
            " 48  DepartureDelayGroups                     float64       \n",
            " 49  DepTimeBlk                               object        \n",
            " 50  TaxiOut                                  float64       \n",
            " 51  WheelsOff                                float64       \n",
            " 52  WheelsOn                                 float64       \n",
            " 53  TaxiIn                                   float64       \n",
            " 54  CRSArrTime                               int64         \n",
            " 55  ArrDelay                                 float64       \n",
            " 56  ArrDel15                                 float64       \n",
            " 57  ArrivalDelayGroups                       float64       \n",
            " 58  ArrTimeBlk                               object        \n",
            " 59  DistanceGroup                            int64         \n",
            " 60  DivAirportLandings                       int64         \n",
            "dtypes: bool(2), datetime64[ns](1), float64(18), int64(23), object(17)\n",
            "memory usage: 1.8+ GB\n"
          ]
        }
      ],
      "source": [
        "# See basic dataframe type info\n",
        "df.info()"
      ]
    },
    {
      "cell_type": "code",
      "execution_count": null,
      "metadata": {
        "id": "GTUMkYVLWtgR",
        "colab": {
          "base_uri": "https://localhost:8080/",
          "height": 349
        },
        "outputId": "f9fa4eff-1663-4bef-a5f2-e4477aa210ef"
      },
      "outputs": [
        {
          "output_type": "execute_result",
          "data": {
            "text/plain": [
              "         CRSDepTime       DepTime  DepDelayMinutes      DepDelay  \\\n",
              "count  3.944916e+06  3.944916e+06     3.944916e+06  3.944916e+06   \n",
              "mean   1.328088e+03  1.334120e+03     1.594013e+01  1.301277e+01   \n",
              "std    4.899073e+02  5.057184e+02     5.216240e+01  5.316724e+01   \n",
              "min    1.000000e+00  1.000000e+00     0.000000e+00 -7.800000e+01   \n",
              "25%    9.130000e+02  9.160000e+02     0.000000e+00 -5.000000e+00   \n",
              "50%    1.320000e+03  1.325000e+03     0.000000e+00 -2.000000e+00   \n",
              "75%    1.732000e+03  1.744000e+03     1.100000e+01  1.100000e+01   \n",
              "max    2.359000e+03  2.400000e+03     7.223000e+03  7.223000e+03   \n",
              "\n",
              "            ArrTime  ArrDelayMinutes       AirTime  CRSElapsedTime  \\\n",
              "count  3.944916e+06     3.944916e+06  3.944916e+06    3.944916e+06   \n",
              "mean   1.457636e+03     1.578307e+01  1.110075e+02    1.413464e+02   \n",
              "std    5.429405e+02     5.198424e+01  6.996246e+01    7.199693e+01   \n",
              "min    1.000000e+00     0.000000e+00  8.000000e+00   -4.800000e+01   \n",
              "25%    1.046000e+03     0.000000e+00  6.000000e+01    8.900000e+01   \n",
              "50%    1.459000e+03     0.000000e+00  9.400000e+01    1.240000e+02   \n",
              "75%    1.913000e+03     1.000000e+01  1.410000e+02    1.720000e+02   \n",
              "max    2.400000e+03     7.232000e+03  7.270000e+02    6.900000e+02   \n",
              "\n",
              "       ActualElapsedTime      Distance  ...       TaxiOut     WheelsOff  \\\n",
              "count       3.944916e+06  3.944916e+06  ...  3.944916e+06  3.944916e+06   \n",
              "mean        1.358624e+02  7.988929e+02  ...  1.696645e+01  1.356426e+03   \n",
              "std         7.185501e+01  5.931635e+02  ...  9.483114e+00  5.076589e+02   \n",
              "min         1.400000e+01  3.100000e+01  ...  1.000000e+00  1.000000e+00   \n",
              "25%         8.300000e+01  3.680000e+02  ...  1.100000e+01  9.320000e+02   \n",
              "50%         1.190000e+02  6.430000e+02  ...  1.500000e+01  1.338000e+03   \n",
              "75%         1.670000e+02  1.035000e+03  ...  1.900000e+01  1.758000e+03   \n",
              "max         7.640000e+02  5.095000e+03  ...  2.210000e+02  2.400000e+03   \n",
              "\n",
              "           WheelsOn        TaxiIn    CRSArrTime      ArrDelay      ArrDel15  \\\n",
              "count  3.944916e+06  3.944916e+06  3.944916e+06  3.944916e+06  3.944916e+06   \n",
              "mean   1.454810e+03  7.888369e+00  1.484449e+03  7.528486e+00  2.164715e-01   \n",
              "std    5.376202e+02  6.647231e+00  5.178388e+02  5.524625e+01  4.118393e-01   \n",
              "min    1.000000e+00  1.000000e+00  1.000000e+00 -1.000000e+02  0.000000e+00   \n",
              "25%    1.043000e+03  4.000000e+00  1.102000e+03 -1.400000e+01  0.000000e+00   \n",
              "50%    1.456000e+03  6.000000e+00  1.510000e+03 -5.000000e+00  0.000000e+00   \n",
              "75%    1.909000e+03  9.000000e+00  1.919000e+03  1.000000e+01  0.000000e+00   \n",
              "max    2.400000e+03  2.900000e+02  2.359000e+03  7.232000e+03  1.000000e+00   \n",
              "\n",
              "       ArrivalDelayGroups  DistanceGroup  DivAirportLandings  \n",
              "count        3.944916e+06   3.944916e+06        3.944916e+06  \n",
              "mean        -6.256103e-02   3.667419e+00        4.562835e-06  \n",
              "std          2.487442e+00   2.326462e+00        6.408237e-03  \n",
              "min         -2.000000e+00   1.000000e+00        0.000000e+00  \n",
              "25%         -1.000000e+00   2.000000e+00        0.000000e+00  \n",
              "50%         -1.000000e+00   3.000000e+00        0.000000e+00  \n",
              "75%          0.000000e+00   5.000000e+00        0.000000e+00  \n",
              "max          1.200000e+01   1.100000e+01        9.000000e+00  \n",
              "\n",
              "[8 rows x 41 columns]"
            ],
            "text/html": [
              "\n",
              "  <div id=\"df-342636b1-2e3a-4ceb-8f92-a264ed4b909c\" class=\"colab-df-container\">\n",
              "    <div>\n",
              "<style scoped>\n",
              "    .dataframe tbody tr th:only-of-type {\n",
              "        vertical-align: middle;\n",
              "    }\n",
              "\n",
              "    .dataframe tbody tr th {\n",
              "        vertical-align: top;\n",
              "    }\n",
              "\n",
              "    .dataframe thead th {\n",
              "        text-align: right;\n",
              "    }\n",
              "</style>\n",
              "<table border=\"1\" class=\"dataframe\">\n",
              "  <thead>\n",
              "    <tr style=\"text-align: right;\">\n",
              "      <th></th>\n",
              "      <th>CRSDepTime</th>\n",
              "      <th>DepTime</th>\n",
              "      <th>DepDelayMinutes</th>\n",
              "      <th>DepDelay</th>\n",
              "      <th>ArrTime</th>\n",
              "      <th>ArrDelayMinutes</th>\n",
              "      <th>AirTime</th>\n",
              "      <th>CRSElapsedTime</th>\n",
              "      <th>ActualElapsedTime</th>\n",
              "      <th>Distance</th>\n",
              "      <th>...</th>\n",
              "      <th>TaxiOut</th>\n",
              "      <th>WheelsOff</th>\n",
              "      <th>WheelsOn</th>\n",
              "      <th>TaxiIn</th>\n",
              "      <th>CRSArrTime</th>\n",
              "      <th>ArrDelay</th>\n",
              "      <th>ArrDel15</th>\n",
              "      <th>ArrivalDelayGroups</th>\n",
              "      <th>DistanceGroup</th>\n",
              "      <th>DivAirportLandings</th>\n",
              "    </tr>\n",
              "  </thead>\n",
              "  <tbody>\n",
              "    <tr>\n",
              "      <th>count</th>\n",
              "      <td>3.944916e+06</td>\n",
              "      <td>3.944916e+06</td>\n",
              "      <td>3.944916e+06</td>\n",
              "      <td>3.944916e+06</td>\n",
              "      <td>3.944916e+06</td>\n",
              "      <td>3.944916e+06</td>\n",
              "      <td>3.944916e+06</td>\n",
              "      <td>3.944916e+06</td>\n",
              "      <td>3.944916e+06</td>\n",
              "      <td>3.944916e+06</td>\n",
              "      <td>...</td>\n",
              "      <td>3.944916e+06</td>\n",
              "      <td>3.944916e+06</td>\n",
              "      <td>3.944916e+06</td>\n",
              "      <td>3.944916e+06</td>\n",
              "      <td>3.944916e+06</td>\n",
              "      <td>3.944916e+06</td>\n",
              "      <td>3.944916e+06</td>\n",
              "      <td>3.944916e+06</td>\n",
              "      <td>3.944916e+06</td>\n",
              "      <td>3.944916e+06</td>\n",
              "    </tr>\n",
              "    <tr>\n",
              "      <th>mean</th>\n",
              "      <td>1.328088e+03</td>\n",
              "      <td>1.334120e+03</td>\n",
              "      <td>1.594013e+01</td>\n",
              "      <td>1.301277e+01</td>\n",
              "      <td>1.457636e+03</td>\n",
              "      <td>1.578307e+01</td>\n",
              "      <td>1.110075e+02</td>\n",
              "      <td>1.413464e+02</td>\n",
              "      <td>1.358624e+02</td>\n",
              "      <td>7.988929e+02</td>\n",
              "      <td>...</td>\n",
              "      <td>1.696645e+01</td>\n",
              "      <td>1.356426e+03</td>\n",
              "      <td>1.454810e+03</td>\n",
              "      <td>7.888369e+00</td>\n",
              "      <td>1.484449e+03</td>\n",
              "      <td>7.528486e+00</td>\n",
              "      <td>2.164715e-01</td>\n",
              "      <td>-6.256103e-02</td>\n",
              "      <td>3.667419e+00</td>\n",
              "      <td>4.562835e-06</td>\n",
              "    </tr>\n",
              "    <tr>\n",
              "      <th>std</th>\n",
              "      <td>4.899073e+02</td>\n",
              "      <td>5.057184e+02</td>\n",
              "      <td>5.216240e+01</td>\n",
              "      <td>5.316724e+01</td>\n",
              "      <td>5.429405e+02</td>\n",
              "      <td>5.198424e+01</td>\n",
              "      <td>6.996246e+01</td>\n",
              "      <td>7.199693e+01</td>\n",
              "      <td>7.185501e+01</td>\n",
              "      <td>5.931635e+02</td>\n",
              "      <td>...</td>\n",
              "      <td>9.483114e+00</td>\n",
              "      <td>5.076589e+02</td>\n",
              "      <td>5.376202e+02</td>\n",
              "      <td>6.647231e+00</td>\n",
              "      <td>5.178388e+02</td>\n",
              "      <td>5.524625e+01</td>\n",
              "      <td>4.118393e-01</td>\n",
              "      <td>2.487442e+00</td>\n",
              "      <td>2.326462e+00</td>\n",
              "      <td>6.408237e-03</td>\n",
              "    </tr>\n",
              "    <tr>\n",
              "      <th>min</th>\n",
              "      <td>1.000000e+00</td>\n",
              "      <td>1.000000e+00</td>\n",
              "      <td>0.000000e+00</td>\n",
              "      <td>-7.800000e+01</td>\n",
              "      <td>1.000000e+00</td>\n",
              "      <td>0.000000e+00</td>\n",
              "      <td>8.000000e+00</td>\n",
              "      <td>-4.800000e+01</td>\n",
              "      <td>1.400000e+01</td>\n",
              "      <td>3.100000e+01</td>\n",
              "      <td>...</td>\n",
              "      <td>1.000000e+00</td>\n",
              "      <td>1.000000e+00</td>\n",
              "      <td>1.000000e+00</td>\n",
              "      <td>1.000000e+00</td>\n",
              "      <td>1.000000e+00</td>\n",
              "      <td>-1.000000e+02</td>\n",
              "      <td>0.000000e+00</td>\n",
              "      <td>-2.000000e+00</td>\n",
              "      <td>1.000000e+00</td>\n",
              "      <td>0.000000e+00</td>\n",
              "    </tr>\n",
              "    <tr>\n",
              "      <th>25%</th>\n",
              "      <td>9.130000e+02</td>\n",
              "      <td>9.160000e+02</td>\n",
              "      <td>0.000000e+00</td>\n",
              "      <td>-5.000000e+00</td>\n",
              "      <td>1.046000e+03</td>\n",
              "      <td>0.000000e+00</td>\n",
              "      <td>6.000000e+01</td>\n",
              "      <td>8.900000e+01</td>\n",
              "      <td>8.300000e+01</td>\n",
              "      <td>3.680000e+02</td>\n",
              "      <td>...</td>\n",
              "      <td>1.100000e+01</td>\n",
              "      <td>9.320000e+02</td>\n",
              "      <td>1.043000e+03</td>\n",
              "      <td>4.000000e+00</td>\n",
              "      <td>1.102000e+03</td>\n",
              "      <td>-1.400000e+01</td>\n",
              "      <td>0.000000e+00</td>\n",
              "      <td>-1.000000e+00</td>\n",
              "      <td>2.000000e+00</td>\n",
              "      <td>0.000000e+00</td>\n",
              "    </tr>\n",
              "    <tr>\n",
              "      <th>50%</th>\n",
              "      <td>1.320000e+03</td>\n",
              "      <td>1.325000e+03</td>\n",
              "      <td>0.000000e+00</td>\n",
              "      <td>-2.000000e+00</td>\n",
              "      <td>1.459000e+03</td>\n",
              "      <td>0.000000e+00</td>\n",
              "      <td>9.400000e+01</td>\n",
              "      <td>1.240000e+02</td>\n",
              "      <td>1.190000e+02</td>\n",
              "      <td>6.430000e+02</td>\n",
              "      <td>...</td>\n",
              "      <td>1.500000e+01</td>\n",
              "      <td>1.338000e+03</td>\n",
              "      <td>1.456000e+03</td>\n",
              "      <td>6.000000e+00</td>\n",
              "      <td>1.510000e+03</td>\n",
              "      <td>-5.000000e+00</td>\n",
              "      <td>0.000000e+00</td>\n",
              "      <td>-1.000000e+00</td>\n",
              "      <td>3.000000e+00</td>\n",
              "      <td>0.000000e+00</td>\n",
              "    </tr>\n",
              "    <tr>\n",
              "      <th>75%</th>\n",
              "      <td>1.732000e+03</td>\n",
              "      <td>1.744000e+03</td>\n",
              "      <td>1.100000e+01</td>\n",
              "      <td>1.100000e+01</td>\n",
              "      <td>1.913000e+03</td>\n",
              "      <td>1.000000e+01</td>\n",
              "      <td>1.410000e+02</td>\n",
              "      <td>1.720000e+02</td>\n",
              "      <td>1.670000e+02</td>\n",
              "      <td>1.035000e+03</td>\n",
              "      <td>...</td>\n",
              "      <td>1.900000e+01</td>\n",
              "      <td>1.758000e+03</td>\n",
              "      <td>1.909000e+03</td>\n",
              "      <td>9.000000e+00</td>\n",
              "      <td>1.919000e+03</td>\n",
              "      <td>1.000000e+01</td>\n",
              "      <td>0.000000e+00</td>\n",
              "      <td>0.000000e+00</td>\n",
              "      <td>5.000000e+00</td>\n",
              "      <td>0.000000e+00</td>\n",
              "    </tr>\n",
              "    <tr>\n",
              "      <th>max</th>\n",
              "      <td>2.359000e+03</td>\n",
              "      <td>2.400000e+03</td>\n",
              "      <td>7.223000e+03</td>\n",
              "      <td>7.223000e+03</td>\n",
              "      <td>2.400000e+03</td>\n",
              "      <td>7.232000e+03</td>\n",
              "      <td>7.270000e+02</td>\n",
              "      <td>6.900000e+02</td>\n",
              "      <td>7.640000e+02</td>\n",
              "      <td>5.095000e+03</td>\n",
              "      <td>...</td>\n",
              "      <td>2.210000e+02</td>\n",
              "      <td>2.400000e+03</td>\n",
              "      <td>2.400000e+03</td>\n",
              "      <td>2.900000e+02</td>\n",
              "      <td>2.359000e+03</td>\n",
              "      <td>7.232000e+03</td>\n",
              "      <td>1.000000e+00</td>\n",
              "      <td>1.200000e+01</td>\n",
              "      <td>1.100000e+01</td>\n",
              "      <td>9.000000e+00</td>\n",
              "    </tr>\n",
              "  </tbody>\n",
              "</table>\n",
              "<p>8 rows × 41 columns</p>\n",
              "</div>\n",
              "    <div class=\"colab-df-buttons\">\n",
              "\n",
              "  <div class=\"colab-df-container\">\n",
              "    <button class=\"colab-df-convert\" onclick=\"convertToInteractive('df-342636b1-2e3a-4ceb-8f92-a264ed4b909c')\"\n",
              "            title=\"Convert this dataframe to an interactive table.\"\n",
              "            style=\"display:none;\">\n",
              "\n",
              "  <svg xmlns=\"http://www.w3.org/2000/svg\" height=\"24px\" viewBox=\"0 -960 960 960\">\n",
              "    <path d=\"M120-120v-720h720v720H120Zm60-500h600v-160H180v160Zm220 220h160v-160H400v160Zm0 220h160v-160H400v160ZM180-400h160v-160H180v160Zm440 0h160v-160H620v160ZM180-180h160v-160H180v160Zm440 0h160v-160H620v160Z\"/>\n",
              "  </svg>\n",
              "    </button>\n",
              "\n",
              "  <style>\n",
              "    .colab-df-container {\n",
              "      display:flex;\n",
              "      gap: 12px;\n",
              "    }\n",
              "\n",
              "    .colab-df-convert {\n",
              "      background-color: #E8F0FE;\n",
              "      border: none;\n",
              "      border-radius: 50%;\n",
              "      cursor: pointer;\n",
              "      display: none;\n",
              "      fill: #1967D2;\n",
              "      height: 32px;\n",
              "      padding: 0 0 0 0;\n",
              "      width: 32px;\n",
              "    }\n",
              "\n",
              "    .colab-df-convert:hover {\n",
              "      background-color: #E2EBFA;\n",
              "      box-shadow: 0px 1px 2px rgba(60, 64, 67, 0.3), 0px 1px 3px 1px rgba(60, 64, 67, 0.15);\n",
              "      fill: #174EA6;\n",
              "    }\n",
              "\n",
              "    .colab-df-buttons div {\n",
              "      margin-bottom: 4px;\n",
              "    }\n",
              "\n",
              "    [theme=dark] .colab-df-convert {\n",
              "      background-color: #3B4455;\n",
              "      fill: #D2E3FC;\n",
              "    }\n",
              "\n",
              "    [theme=dark] .colab-df-convert:hover {\n",
              "      background-color: #434B5C;\n",
              "      box-shadow: 0px 1px 3px 1px rgba(0, 0, 0, 0.15);\n",
              "      filter: drop-shadow(0px 1px 2px rgba(0, 0, 0, 0.3));\n",
              "      fill: #FFFFFF;\n",
              "    }\n",
              "  </style>\n",
              "\n",
              "    <script>\n",
              "      const buttonEl =\n",
              "        document.querySelector('#df-342636b1-2e3a-4ceb-8f92-a264ed4b909c button.colab-df-convert');\n",
              "      buttonEl.style.display =\n",
              "        google.colab.kernel.accessAllowed ? 'block' : 'none';\n",
              "\n",
              "      async function convertToInteractive(key) {\n",
              "        const element = document.querySelector('#df-342636b1-2e3a-4ceb-8f92-a264ed4b909c');\n",
              "        const dataTable =\n",
              "          await google.colab.kernel.invokeFunction('convertToInteractive',\n",
              "                                                    [key], {});\n",
              "        if (!dataTable) return;\n",
              "\n",
              "        const docLinkHtml = 'Like what you see? Visit the ' +\n",
              "          '<a target=\"_blank\" href=https://colab.research.google.com/notebooks/data_table.ipynb>data table notebook</a>'\n",
              "          + ' to learn more about interactive tables.';\n",
              "        element.innerHTML = '';\n",
              "        dataTable['output_type'] = 'display_data';\n",
              "        await google.colab.output.renderOutput(dataTable, element);\n",
              "        const docLink = document.createElement('div');\n",
              "        docLink.innerHTML = docLinkHtml;\n",
              "        element.appendChild(docLink);\n",
              "      }\n",
              "    </script>\n",
              "  </div>\n",
              "\n",
              "\n",
              "<div id=\"df-46e34ddd-b19f-4ce7-9457-bfc53f585abc\">\n",
              "  <button class=\"colab-df-quickchart\" onclick=\"quickchart('df-46e34ddd-b19f-4ce7-9457-bfc53f585abc')\"\n",
              "            title=\"Suggest charts\"\n",
              "            style=\"display:none;\">\n",
              "\n",
              "<svg xmlns=\"http://www.w3.org/2000/svg\" height=\"24px\"viewBox=\"0 0 24 24\"\n",
              "     width=\"24px\">\n",
              "    <g>\n",
              "        <path d=\"M19 3H5c-1.1 0-2 .9-2 2v14c0 1.1.9 2 2 2h14c1.1 0 2-.9 2-2V5c0-1.1-.9-2-2-2zM9 17H7v-7h2v7zm4 0h-2V7h2v10zm4 0h-2v-4h2v4z\"/>\n",
              "    </g>\n",
              "</svg>\n",
              "  </button>\n",
              "\n",
              "<style>\n",
              "  .colab-df-quickchart {\n",
              "      --bg-color: #E8F0FE;\n",
              "      --fill-color: #1967D2;\n",
              "      --hover-bg-color: #E2EBFA;\n",
              "      --hover-fill-color: #174EA6;\n",
              "      --disabled-fill-color: #AAA;\n",
              "      --disabled-bg-color: #DDD;\n",
              "  }\n",
              "\n",
              "  [theme=dark] .colab-df-quickchart {\n",
              "      --bg-color: #3B4455;\n",
              "      --fill-color: #D2E3FC;\n",
              "      --hover-bg-color: #434B5C;\n",
              "      --hover-fill-color: #FFFFFF;\n",
              "      --disabled-bg-color: #3B4455;\n",
              "      --disabled-fill-color: #666;\n",
              "  }\n",
              "\n",
              "  .colab-df-quickchart {\n",
              "    background-color: var(--bg-color);\n",
              "    border: none;\n",
              "    border-radius: 50%;\n",
              "    cursor: pointer;\n",
              "    display: none;\n",
              "    fill: var(--fill-color);\n",
              "    height: 32px;\n",
              "    padding: 0;\n",
              "    width: 32px;\n",
              "  }\n",
              "\n",
              "  .colab-df-quickchart:hover {\n",
              "    background-color: var(--hover-bg-color);\n",
              "    box-shadow: 0 1px 2px rgba(60, 64, 67, 0.3), 0 1px 3px 1px rgba(60, 64, 67, 0.15);\n",
              "    fill: var(--button-hover-fill-color);\n",
              "  }\n",
              "\n",
              "  .colab-df-quickchart-complete:disabled,\n",
              "  .colab-df-quickchart-complete:disabled:hover {\n",
              "    background-color: var(--disabled-bg-color);\n",
              "    fill: var(--disabled-fill-color);\n",
              "    box-shadow: none;\n",
              "  }\n",
              "\n",
              "  .colab-df-spinner {\n",
              "    border: 2px solid var(--fill-color);\n",
              "    border-color: transparent;\n",
              "    border-bottom-color: var(--fill-color);\n",
              "    animation:\n",
              "      spin 1s steps(1) infinite;\n",
              "  }\n",
              "\n",
              "  @keyframes spin {\n",
              "    0% {\n",
              "      border-color: transparent;\n",
              "      border-bottom-color: var(--fill-color);\n",
              "      border-left-color: var(--fill-color);\n",
              "    }\n",
              "    20% {\n",
              "      border-color: transparent;\n",
              "      border-left-color: var(--fill-color);\n",
              "      border-top-color: var(--fill-color);\n",
              "    }\n",
              "    30% {\n",
              "      border-color: transparent;\n",
              "      border-left-color: var(--fill-color);\n",
              "      border-top-color: var(--fill-color);\n",
              "      border-right-color: var(--fill-color);\n",
              "    }\n",
              "    40% {\n",
              "      border-color: transparent;\n",
              "      border-right-color: var(--fill-color);\n",
              "      border-top-color: var(--fill-color);\n",
              "    }\n",
              "    60% {\n",
              "      border-color: transparent;\n",
              "      border-right-color: var(--fill-color);\n",
              "    }\n",
              "    80% {\n",
              "      border-color: transparent;\n",
              "      border-right-color: var(--fill-color);\n",
              "      border-bottom-color: var(--fill-color);\n",
              "    }\n",
              "    90% {\n",
              "      border-color: transparent;\n",
              "      border-bottom-color: var(--fill-color);\n",
              "    }\n",
              "  }\n",
              "</style>\n",
              "\n",
              "  <script>\n",
              "    async function quickchart(key) {\n",
              "      const quickchartButtonEl =\n",
              "        document.querySelector('#' + key + ' button');\n",
              "      quickchartButtonEl.disabled = true;  // To prevent multiple clicks.\n",
              "      quickchartButtonEl.classList.add('colab-df-spinner');\n",
              "      try {\n",
              "        const charts = await google.colab.kernel.invokeFunction(\n",
              "            'suggestCharts', [key], {});\n",
              "      } catch (error) {\n",
              "        console.error('Error during call to suggestCharts:', error);\n",
              "      }\n",
              "      quickchartButtonEl.classList.remove('colab-df-spinner');\n",
              "      quickchartButtonEl.classList.add('colab-df-quickchart-complete');\n",
              "    }\n",
              "    (() => {\n",
              "      let quickchartButtonEl =\n",
              "        document.querySelector('#df-46e34ddd-b19f-4ce7-9457-bfc53f585abc button');\n",
              "      quickchartButtonEl.style.display =\n",
              "        google.colab.kernel.accessAllowed ? 'block' : 'none';\n",
              "    })();\n",
              "  </script>\n",
              "</div>\n",
              "    </div>\n",
              "  </div>\n"
            ]
          },
          "metadata": {},
          "execution_count": 10
        }
      ],
      "source": [
        "# Basic Dataframe Summary\n",
        "df.describe()"
      ]
    },
    {
      "cell_type": "markdown",
      "metadata": {
        "id": "KHu7luEaW-qy"
      },
      "source": [
        "In the dataframe info, we see that DayOfWeek is of type 'int64'. We'll start by mapping this to a string of type object for simplicity."
      ]
    },
    {
      "cell_type": "code",
      "execution_count": null,
      "metadata": {
        "id": "-XkRaTPhVNCt",
        "colab": {
          "base_uri": "https://localhost:8080/"
        },
        "outputId": "64a469b1-6e7c-4f81-ee54-33693d6cbbb4"
      },
      "outputs": [
        {
          "output_type": "execute_result",
          "data": {
            "text/plain": [
              "array([1, 7, 6, 5, 2, 3, 4])"
            ]
          },
          "metadata": {},
          "execution_count": 11
        }
      ],
      "source": [
        "# Check that the current DayOfWeek column includes all 7 days of the week and see if it uses 0-6 or 1-7\n",
        "df['DayOfWeek'].unique()"
      ]
    },
    {
      "cell_type": "code",
      "execution_count": null,
      "metadata": {
        "id": "8U87aQG0XQ3u"
      },
      "outputs": [],
      "source": [
        "# Given that it uses integers 1-7, map accordingly\n",
        "day_mapping = {1: 'Monday', 2: 'Tuesday', 3: 'Wednesday', 4: 'Thursday', 5: 'Friday', 6: 'Saturday', 7: 'Sunday'}\n",
        "df['DayOfWeekName'] = df['DayOfWeek'].map(day_mapping)"
      ]
    },
    {
      "cell_type": "markdown",
      "metadata": {
        "id": "tlXIosVeSoa9"
      },
      "source": [
        "# **Part III:** Exploratory Analysis"
      ]
    },
    {
      "cell_type": "markdown",
      "metadata": {
        "id": "bD7BFFm3XxOY"
      },
      "source": [
        "Now that we a general idea of the structure of the dataframe, we want to begin by performing some Exploratory Analysis on the data to see what information the data can give us."
      ]
    },
    {
      "cell_type": "markdown",
      "metadata": {
        "id": "X5oihruQYoli"
      },
      "source": [
        "First we'll make a correlation matrix to see if any relationships or correlations between the various attributes stick out."
      ]
    },
    {
      "cell_type": "code",
      "execution_count": null,
      "metadata": {
        "id": "EIh9nXbuYLgB"
      },
      "outputs": [],
      "source": [
        "# Calculate the correlation matrix\n",
        "correlation_matrix = df.corr()\n",
        "\n",
        "# Visualize the correlation matrix using a heatmap\n",
        "plt.figure(figsize=(12, 8))\n",
        "sns.heatmap(correlation_matrix, annot=True, cmap=\"coolwarm\", fmt=\".2f\")\n",
        "plt.title(\"Correlation Matrix\")\n",
        "plt.show()"
      ]
    },
    {
      "cell_type": "code",
      "execution_count": null,
      "metadata": {
        "id": "pY3OWe16Xk-k"
      },
      "outputs": [],
      "source": [
        "# Display histograms of numerical columns\n",
        "df.hist(figsize=(15, 12), bins=20)\n",
        "plt.suptitle(\"Histogram of Numerical Columns\", y=0.92)\n",
        "plt.show()"
      ]
    },
    {
      "cell_type": "code",
      "execution_count": null,
      "metadata": {
        "id": "Gj0jH8vEYrlD"
      },
      "outputs": [],
      "source": [
        "# Display count plots of categorical columns with only the top 50 values on the x-axis\n",
        "categorical_columns = df.select_dtypes(include=[\"object\"]).columns\n",
        "for column in categorical_columns:\n",
        "    # Get the top 50 values for the specified column\n",
        "    top_50_values = df[column].value_counts().nlargest(50).index\n",
        "\n",
        "    # Create a count plot with only the top 50 values on the x-axis\n",
        "    plt.figure(figsize=(10, 6))\n",
        "    sns.countplot(x=column, data=df[df[column].isin(top_50_values)], order=top_50_values)\n",
        "    plt.title(f\"Count Plot of {column} (Top 50)\")\n",
        "\n",
        "    # Improve x-axis label rotation for better readability\n",
        "    plt.xticks(rotation=45, ha=\"right\")\n",
        "\n",
        "    plt.show()"
      ]
    },
    {
      "cell_type": "code",
      "execution_count": null,
      "metadata": {
        "id": "i0gPY8GJXkwg"
      },
      "outputs": [],
      "source": [
        "# Assuming you want to aggregate delays by date\n",
        "df_aggregated = df.groupby('FlightDate').agg({'DepDelayMinutes': 'mean', 'ArrDelayMinutes': 'mean'}).reset_index()\n",
        "\n",
        "# Visualize trends over time\n",
        "plt.figure(figsize=(15, 6))\n",
        "sns.lineplot(x='FlightDate', y='DepDelayMinutes', data=df_aggregated, label='Departure Delay')\n",
        "sns.lineplot(x='FlightDate', y='ArrDelayMinutes', data=df_aggregated, label='Arrival Delay')\n",
        "plt.title('Departure and Arrival Delays Over Time')\n",
        "plt.xlabel('Flight Date')\n",
        "plt.ylabel('Delay Minutes')\n",
        "plt.legend()\n",
        "plt.show()"
      ]
    },
    {
      "cell_type": "code",
      "execution_count": null,
      "metadata": {
        "id": "h87NABlvSzUm"
      },
      "outputs": [],
      "source": [
        "# Count plot of cancellation status\n",
        "plt.figure(figsize=(8, 6))\n",
        "sns.countplot(x='Cancelled', data=df)\n",
        "plt.title('Count Plot of Cancellation Status')\n",
        "plt.xlabel('Cancellation Status')\n",
        "plt.ylabel('Count')\n",
        "plt.show()"
      ]
    },
    {
      "cell_type": "code",
      "execution_count": null,
      "metadata": {
        "id": "MQGZaGFBYuXk"
      },
      "outputs": [],
      "source": [
        "# Bar plot of average departure delay by day of the week\n",
        "plt.figure(figsize=(10, 6))\n",
        "sns.barplot(x='DayOfWeekName', y='DepDelayMinutes', data=df, order=['Monday', 'Tuesday', 'Wednesday', 'Thursday', 'Friday', 'Saturday', 'Sunday'])\n",
        "plt.title('Average Departure Delay by Day of the Week')\n",
        "plt.xlabel('Day of the Week')\n",
        "plt.ylabel('Average Departure Delay (Minutes)')\n",
        "plt.xticks(rotation=45, ha=\"right\")\n",
        "plt.show()"
      ]
    },
    {
      "cell_type": "code",
      "execution_count": null,
      "metadata": {
        "id": "tV9hYsPEYwAK"
      },
      "outputs": [],
      "source": [
        "# Scatter plot of departure delay versus arrival delay\n",
        "plt.figure(figsize=(10, 8))\n",
        "sns.scatterplot(x='DepDelayMinutes', y='ArrDelayMinutes', data=df)\n",
        "plt.title('Scatter Plot of Departure Delay versus Arrival Delay')\n",
        "plt.xlabel('Departure Delay (Minutes)')\n",
        "plt.ylabel('Arrival Delay (Minutes)')\n",
        "plt.show()"
      ]
    },
    {
      "cell_type": "code",
      "execution_count": null,
      "metadata": {
        "id": "ECFlyiNbYyho"
      },
      "outputs": [],
      "source": [
        "# Bar plot of average arrival delay by airline\n",
        "plt.figure(figsize=(15, 8))\n",
        "sns.barplot(x='Airline', y='ArrDelayMinutes', data=df)\n",
        "plt.title('Average Arrival Delay by Airline')\n",
        "plt.xlabel('Airline')\n",
        "plt.ylabel('Average Arrival Delay (Minutes)')\n",
        "plt.xticks(rotation=45, ha=\"right\")\n",
        "plt.show()"
      ]
    },
    {
      "cell_type": "code",
      "execution_count": null,
      "metadata": {
        "id": "DzZtcluCVEOZ"
      },
      "outputs": [],
      "source": [
        "# Drop unnecessary columns for modeling\n",
        "df_model = df.drop(['FlightDate', 'Cancelled', 'Diverted', 'ArrDelayMinutes'], axis=1)\n",
        "\n",
        "# Convert categorical variables to numerical using Label Encoding\n",
        "label_encoder = LabelEncoder()\n",
        "for column in df_model.select_dtypes(include='object').columns:\n",
        "    df_model[column] = label_encoder.fit_transform(df_model[column])\n",
        "\n",
        "# Create a binary target variable indicating whether the flight was delayed or not\n",
        "df_model['Delayed'] = df_model['DepDelayMinutes'] > 0\n",
        "\n",
        "# Separate features (X) and target variable (y)\n",
        "X = df_model.drop(['Delayed', 'DepDelayMinutes'], axis=1)\n",
        "y = df_model['Delayed']\n",
        "\n",
        "# Split the data into training and testing sets\n",
        "X_train, X_test, y_train, y_test = train_test_split(X, y, test_size=0.2, random_state=42)\n",
        "\n",
        "# Impute missing values using SimpleImputer\n",
        "imputer = SimpleImputer(strategy='mean')\n",
        "X_train_imputed = pd.DataFrame(imputer.fit_transform(X_train), columns=X_train.columns)\n",
        "X_test_imputed = pd.DataFrame(imputer.transform(X_test), columns=X_test.columns)\n",
        "\n",
        "# Initialize the Random Forest Classifier\n",
        "rf_classifier = RandomForestClassifier(random_state=42)\n",
        "\n",
        "# Train the model\n",
        "rf_classifier.fit(X_train_imputed, y_train)\n",
        "\n",
        "# Make predictions on the test set\n",
        "y_pred = rf_classifier.predict(X_test_imputed)\n",
        "\n",
        "# Evaluate the model\n",
        "accuracy = accuracy_score(y_test, y_pred)\n",
        "conf_matrix = confusion_matrix(y_test, y_pred)\n",
        "class_report = classification_report(y_test, y_pred)\n",
        "\n",
        "# Display evaluation metrics\n",
        "print(f'Accuracy: {accuracy:.4f}')\n",
        "print('\\nConfusion Matrix:')\n",
        "print(conf_matrix)\n",
        "print('\\nClassification Report:')\n",
        "print(class_report)"
      ]
    },
    {
      "cell_type": "code",
      "execution_count": null,
      "metadata": {
        "id": "wheccG3If4X2"
      },
      "outputs": [],
      "source": [
        "# Drop unnecessary columns for modeling\n",
        "df_model_arr = df.drop(['FlightDate', 'Cancelled', 'Diverted', 'DepDelayMinutes'], axis=1)\n",
        "\n",
        "# Convert categorical variables to numerical using Label Encoding\n",
        "label_encoder = LabelEncoder()\n",
        "for column in df_model_arr.select_dtypes(include='object').columns:\n",
        "    df_model_arr[column] = label_encoder.fit_transform(df_model_arr[column])\n",
        "\n",
        "# Create a binary target variable indicating whether the flight was delayed or not\n",
        "df_model_arr['Delayed'] = df_model_arr['ArrDelayMinutes'] > 0\n",
        "\n",
        "# Separate features (X) and target variable (y)\n",
        "X = df_model_arr.drop(['Delayed', 'DepDelayMinutes'], axis=1)\n",
        "y = df_model_arr['Delayed']\n",
        "\n",
        "# Split the data into training and testing sets\n",
        "X_train, X_test, y_train, y_test = train_test_split(X, y, test_size=0.2, random_state=42)\n",
        "\n",
        "# Impute missing values using SimpleImputer\n",
        "imputer = SimpleImputer(strategy='mean')\n",
        "X_train_imputed = pd.DataFrame(imputer.fit_transform(X_train), columns=X_train.columns)\n",
        "X_test_imputed = pd.DataFrame(imputer.transform(X_test), columns=X_test.columns)\n",
        "\n",
        "# Initialize the Random Forest Classifier\n",
        "rf_classifier = RandomForestClassifier(random_state=42)\n",
        "\n",
        "# Train the model\n",
        "rf_classifier.fit(X_train_imputed, y_train)\n",
        "\n",
        "# Make predictions on the test set\n",
        "y_pred = rf_classifier.predict(X_test_imputed)\n",
        "\n",
        "# Evaluate the model\n",
        "accuracy = accuracy_score(y_test, y_pred)\n",
        "conf_matrix = confusion_matrix(y_test, y_pred)\n",
        "class_report = classification_report(y_test, y_pred)\n",
        "\n",
        "# Display evaluation metrics\n",
        "print(f'Accuracy: {accuracy:.4f}')\n",
        "print('\\nConfusion Matrix:')\n",
        "print(conf_matrix)\n",
        "print('\\nClassification Report:')\n",
        "print(class_report)"
      ]
    },
    {
      "cell_type": "markdown",
      "source": [
        "# **Part IV:** Data Wrangling and Staging"
      ],
      "metadata": {
        "id": "VCL3zBTp_Dj2"
      }
    },
    {
      "cell_type": "markdown",
      "source": [
        "We are going to trim down unnessecary columns and data to make it cleaner and ready for modeling."
      ],
      "metadata": {
        "id": "3-dup6je_jLD"
      }
    },
    {
      "cell_type": "code",
      "source": [
        "# uh"
      ],
      "metadata": {
        "id": "fj47xvsX_p-J"
      },
      "execution_count": null,
      "outputs": []
    },
    {
      "cell_type": "markdown",
      "source": [
        "# **Part V:** Modeling"
      ],
      "metadata": {
        "id": "cAlk67t__MWJ"
      }
    },
    {
      "cell_type": "markdown",
      "source": [
        "Model"
      ],
      "metadata": {
        "id": "yL3kE1FI_-wI"
      }
    },
    {
      "cell_type": "code",
      "source": [
        "# what"
      ],
      "metadata": {
        "id": "WWhFCI9DAAeS"
      },
      "execution_count": null,
      "outputs": []
    },
    {
      "cell_type": "markdown",
      "source": [
        "# **Part VI:** Feature Engineering"
      ],
      "metadata": {
        "id": "Waf4Pve8_SM5"
      }
    },
    {
      "cell_type": "markdown",
      "source": [
        "Test and training data, used to model to find difference"
      ],
      "metadata": {
        "id": "cT0p0m6-ABVs"
      }
    },
    {
      "cell_type": "code",
      "source": [
        "Test =  2"
      ],
      "metadata": {
        "id": "4sdMTz4vAFnz"
      },
      "execution_count": null,
      "outputs": []
    },
    {
      "cell_type": "markdown",
      "source": [
        "# **Part VII:** More Modeling"
      ],
      "metadata": {
        "id": "aXQ2biXd_U77"
      }
    },
    {
      "cell_type": "markdown",
      "source": [
        "Model test and training data, draw conclusions on predictability of flight cancellation"
      ],
      "metadata": {
        "id": "aiKv6vV-AHV3"
      }
    },
    {
      "cell_type": "code",
      "source": [
        "#YEE"
      ],
      "metadata": {
        "id": "_iHGuvEMALpd"
      },
      "execution_count": null,
      "outputs": []
    },
    {
      "cell_type": "markdown",
      "metadata": {
        "id": "lE9ZabbpS_IZ"
      },
      "source": [
        "# **Part VIII:** Conclusion"
      ]
    },
    {
      "cell_type": "markdown",
      "metadata": {
        "id": "qDvZ77Y3TC7Y"
      },
      "source": [
        "Need to trim down dataset by dropping columns we won't be using and can then co further in depth with models on the relationships that appear to be there."
      ]
    }
  ],
  "metadata": {
    "colab": {
      "provenance": [],
      "collapsed_sections": [
        "AqhIpYLHSAx5",
        "G2qT50hbK861",
        "tlXIosVeSoa9",
        "VCL3zBTp_Dj2",
        "cAlk67t__MWJ",
        "Waf4Pve8_SM5",
        "aXQ2biXd_U77",
        "lE9ZabbpS_IZ"
      ]
    },
    "kernelspec": {
      "display_name": "Python 3",
      "name": "python3"
    },
    "language_info": {
      "name": "python"
    }
  },
  "nbformat": 4,
  "nbformat_minor": 0
}